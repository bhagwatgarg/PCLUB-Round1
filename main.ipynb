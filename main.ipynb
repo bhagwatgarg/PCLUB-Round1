{
 "cells": [
  {
   "cell_type": "code",
   "execution_count": 1,
   "metadata": {},
   "outputs": [],
   "source": [
    "#The test.csv file lacks a major feature: User_Traffic. Therefore, the model can not predict values.\n",
    "#Still, I have designed the model and\n",
    "#I have commented the code required to predict the values for test.csv\n",
    "\n",
    "\n",
    "import numpy as np, pandas as pd, matplotlib.pyplot as plt\n",
    "from sklearn.preprocessing import OneHotEncoder, StandardScaler\n",
    "from sklearn.model_selection import train_test_split\n",
    "from sklearn.pipeline import Pipeline\n",
    "from sklearn.compose import ColumnTransformer\n",
    "from sklearn.linear_model import LinearRegression\n",
    "from sklearn.tree import DecisionTreeRegressor\n",
    "from sklearn.ensemble import RandomForestRegressor\n",
    "from sklearn.metrics import mean_squared_error"
   ]
  },
  {
   "cell_type": "code",
   "execution_count": 2,
   "metadata": {},
   "outputs": [
    {
     "data": {
      "text/html": [
       "<div>\n",
       "<style scoped>\n",
       "    .dataframe tbody tr th:only-of-type {\n",
       "        vertical-align: middle;\n",
       "    }\n",
       "\n",
       "    .dataframe tbody tr th {\n",
       "        vertical-align: top;\n",
       "    }\n",
       "\n",
       "    .dataframe thead th {\n",
       "        text-align: right;\n",
       "    }\n",
       "</style>\n",
       "<table border=\"1\" class=\"dataframe\">\n",
       "  <thead>\n",
       "    <tr style=\"text-align: right;\">\n",
       "      <th></th>\n",
       "      <th>ID</th>\n",
       "      <th>Day_No</th>\n",
       "      <th>Course_ID</th>\n",
       "      <th>Short_Promotion</th>\n",
       "      <th>Public_Holiday</th>\n",
       "      <th>Long_Promotion</th>\n",
       "      <th>User_Traffic</th>\n",
       "      <th>Competition_Metric</th>\n",
       "      <th>Sales</th>\n",
       "    </tr>\n",
       "  </thead>\n",
       "  <tbody>\n",
       "    <tr>\n",
       "      <th>count</th>\n",
       "      <td>512087.000000</td>\n",
       "      <td>512087.000000</td>\n",
       "      <td>512087.000000</td>\n",
       "      <td>512087.000000</td>\n",
       "      <td>512087.000000</td>\n",
       "      <td>512087.000000</td>\n",
       "      <td>512087.000000</td>\n",
       "      <td>510323.000000</td>\n",
       "      <td>512087.000000</td>\n",
       "    </tr>\n",
       "    <tr>\n",
       "      <th>mean</th>\n",
       "      <td>274007.300650</td>\n",
       "      <td>434.917869</td>\n",
       "      <td>300.388344</td>\n",
       "      <td>0.380244</td>\n",
       "      <td>0.031639</td>\n",
       "      <td>0.488968</td>\n",
       "      <td>15375.101198</td>\n",
       "      <td>0.073345</td>\n",
       "      <td>120.826924</td>\n",
       "    </tr>\n",
       "    <tr>\n",
       "      <th>std</th>\n",
       "      <td>158228.834029</td>\n",
       "      <td>256.044161</td>\n",
       "      <td>173.365787</td>\n",
       "      <td>0.485447</td>\n",
       "      <td>0.175038</td>\n",
       "      <td>0.499879</td>\n",
       "      <td>7727.231205</td>\n",
       "      <td>0.100115</td>\n",
       "      <td>54.355258</td>\n",
       "    </tr>\n",
       "    <tr>\n",
       "      <th>min</th>\n",
       "      <td>1.000000</td>\n",
       "      <td>1.000000</td>\n",
       "      <td>1.000000</td>\n",
       "      <td>0.000000</td>\n",
       "      <td>0.000000</td>\n",
       "      <td>0.000000</td>\n",
       "      <td>168.000000</td>\n",
       "      <td>0.000000</td>\n",
       "      <td>0.000000</td>\n",
       "    </tr>\n",
       "    <tr>\n",
       "      <th>25%</th>\n",
       "      <td>136962.500000</td>\n",
       "      <td>214.000000</td>\n",
       "      <td>150.000000</td>\n",
       "      <td>0.000000</td>\n",
       "      <td>0.000000</td>\n",
       "      <td>0.000000</td>\n",
       "      <td>10584.000000</td>\n",
       "      <td>0.010000</td>\n",
       "      <td>84.000000</td>\n",
       "    </tr>\n",
       "    <tr>\n",
       "      <th>50%</th>\n",
       "      <td>273984.000000</td>\n",
       "      <td>427.000000</td>\n",
       "      <td>300.000000</td>\n",
       "      <td>0.000000</td>\n",
       "      <td>0.000000</td>\n",
       "      <td>0.000000</td>\n",
       "      <td>13776.000000</td>\n",
       "      <td>0.035000</td>\n",
       "      <td>111.000000</td>\n",
       "    </tr>\n",
       "    <tr>\n",
       "      <th>75%</th>\n",
       "      <td>411065.500000</td>\n",
       "      <td>658.000000</td>\n",
       "      <td>451.000000</td>\n",
       "      <td>1.000000</td>\n",
       "      <td>0.000000</td>\n",
       "      <td>1.000000</td>\n",
       "      <td>18123.000000</td>\n",
       "      <td>0.094000</td>\n",
       "      <td>146.000000</td>\n",
       "    </tr>\n",
       "    <tr>\n",
       "      <th>max</th>\n",
       "      <td>548027.000000</td>\n",
       "      <td>882.000000</td>\n",
       "      <td>600.000000</td>\n",
       "      <td>1.000000</td>\n",
       "      <td>1.000000</td>\n",
       "      <td>1.000000</td>\n",
       "      <td>100002.000000</td>\n",
       "      <td>0.768000</td>\n",
       "      <td>682.000000</td>\n",
       "    </tr>\n",
       "  </tbody>\n",
       "</table>\n",
       "</div>"
      ],
      "text/plain": [
       "                  ID         Day_No      Course_ID  Short_Promotion  \\\n",
       "count  512087.000000  512087.000000  512087.000000    512087.000000   \n",
       "mean   274007.300650     434.917869     300.388344         0.380244   \n",
       "std    158228.834029     256.044161     173.365787         0.485447   \n",
       "min         1.000000       1.000000       1.000000         0.000000   \n",
       "25%    136962.500000     214.000000     150.000000         0.000000   \n",
       "50%    273984.000000     427.000000     300.000000         0.000000   \n",
       "75%    411065.500000     658.000000     451.000000         1.000000   \n",
       "max    548027.000000     882.000000     600.000000         1.000000   \n",
       "\n",
       "       Public_Holiday  Long_Promotion   User_Traffic  Competition_Metric  \\\n",
       "count   512087.000000   512087.000000  512087.000000       510323.000000   \n",
       "mean         0.031639        0.488968   15375.101198            0.073345   \n",
       "std          0.175038        0.499879    7727.231205            0.100115   \n",
       "min          0.000000        0.000000     168.000000            0.000000   \n",
       "25%          0.000000        0.000000   10584.000000            0.010000   \n",
       "50%          0.000000        0.000000   13776.000000            0.035000   \n",
       "75%          0.000000        1.000000   18123.000000            0.094000   \n",
       "max          1.000000        1.000000  100002.000000            0.768000   \n",
       "\n",
       "               Sales  \n",
       "count  512087.000000  \n",
       "mean      120.826924  \n",
       "std        54.355258  \n",
       "min         0.000000  \n",
       "25%        84.000000  \n",
       "50%       111.000000  \n",
       "75%       146.000000  \n",
       "max       682.000000  "
      ]
     },
     "execution_count": 2,
     "metadata": {},
     "output_type": "execute_result"
    }
   ],
   "source": [
    "#reading data\n",
    "data=pd.read_csv('train.csv')\n",
    "data_test=pd.read_csv('test.csv')\n",
    "#getting information about the data\n",
    "data.describe()"
   ]
  },
  {
   "cell_type": "code",
   "execution_count": 3,
   "metadata": {},
   "outputs": [
    {
     "data": {
      "text/plain": [
       "array([[<matplotlib.axes._subplots.AxesSubplot object at 0x7f6d641f77f0>,\n",
       "        <matplotlib.axes._subplots.AxesSubplot object at 0x7f6d621cddd8>,\n",
       "        <matplotlib.axes._subplots.AxesSubplot object at 0x7f6d6218e3c8>],\n",
       "       [<matplotlib.axes._subplots.AxesSubplot object at 0x7f6d6213c978>,\n",
       "        <matplotlib.axes._subplots.AxesSubplot object at 0x7f6d620f0f28>,\n",
       "        <matplotlib.axes._subplots.AxesSubplot object at 0x7f6d620aa518>],\n",
       "       [<matplotlib.axes._subplots.AxesSubplot object at 0x7f6d6205cac8>,\n",
       "        <matplotlib.axes._subplots.AxesSubplot object at 0x7f6d6201b0f0>,\n",
       "        <matplotlib.axes._subplots.AxesSubplot object at 0x7f6d6201b128>]],\n",
       "      dtype=object)"
      ]
     },
     "execution_count": 3,
     "metadata": {},
     "output_type": "execute_result"
    },
    {
     "data": {
      "image/png": "[encoded data removed]",
      "text/plain": [
       "<Figure size 720x720 with 9 Axes>"
      ]
     },
     "metadata": {
      "needs_background": "light"
     },
     "output_type": "display_data"
    }
   ],
   "source": [
    "#clearly, Competition_Metric has some null values\n",
    "#filling null values\n",
    "data['Competition_Metric'].fillna(data['Competition_Metric'].median(), inplace=True)\n",
    "#plotting histogram\n",
    "data.hist(figsize=(10,10))"
   ]
  },
  {
   "cell_type": "code",
   "execution_count": 4,
   "metadata": {},
   "outputs": [
    {
     "data": {
      "text/html": [
       "<div>\n",
       "<style scoped>\n",
       "    .dataframe tbody tr th:only-of-type {\n",
       "        vertical-align: middle;\n",
       "    }\n",
       "\n",
       "    .dataframe tbody tr th {\n",
       "        vertical-align: top;\n",
       "    }\n",
       "\n",
       "    .dataframe thead th {\n",
       "        text-align: right;\n",
       "    }\n",
       "</style>\n",
       "<table border=\"1\" class=\"dataframe\">\n",
       "  <thead>\n",
       "    <tr style=\"text-align: right;\">\n",
       "      <th></th>\n",
       "      <th>ID</th>\n",
       "      <th>Day_No</th>\n",
       "      <th>Course_ID</th>\n",
       "      <th>Short_Promotion</th>\n",
       "      <th>Public_Holiday</th>\n",
       "      <th>Long_Promotion</th>\n",
       "      <th>User_Traffic</th>\n",
       "      <th>Competition_Metric</th>\n",
       "      <th>Sales</th>\n",
       "    </tr>\n",
       "  </thead>\n",
       "  <tbody>\n",
       "    <tr>\n",
       "      <th>ID</th>\n",
       "      <td>1.000000</td>\n",
       "      <td>0.001052</td>\n",
       "      <td>0.999996</td>\n",
       "      <td>-0.000005</td>\n",
       "      <td>0.001274</td>\n",
       "      <td>-0.039570</td>\n",
       "      <td>0.033604</td>\n",
       "      <td>-0.007156</td>\n",
       "      <td>0.017037</td>\n",
       "    </tr>\n",
       "    <tr>\n",
       "      <th>Day_No</th>\n",
       "      <td>0.001052</td>\n",
       "      <td>1.000000</td>\n",
       "      <td>-0.000506</td>\n",
       "      <td>0.014645</td>\n",
       "      <td>0.019112</td>\n",
       "      <td>-0.020204</td>\n",
       "      <td>0.021511</td>\n",
       "      <td>0.003188</td>\n",
       "      <td>0.060012</td>\n",
       "    </tr>\n",
       "    <tr>\n",
       "      <th>Course_ID</th>\n",
       "      <td>0.999996</td>\n",
       "      <td>-0.000506</td>\n",
       "      <td>1.000000</td>\n",
       "      <td>-0.000027</td>\n",
       "      <td>0.001242</td>\n",
       "      <td>-0.039605</td>\n",
       "      <td>0.033520</td>\n",
       "      <td>-0.007110</td>\n",
       "      <td>0.016894</td>\n",
       "    </tr>\n",
       "    <tr>\n",
       "      <th>Short_Promotion</th>\n",
       "      <td>-0.000005</td>\n",
       "      <td>0.014645</td>\n",
       "      <td>-0.000027</td>\n",
       "      <td>1.000000</td>\n",
       "      <td>-0.018770</td>\n",
       "      <td>-0.001149</td>\n",
       "      <td>0.198785</td>\n",
       "      <td>0.000180</td>\n",
       "      <td>0.367762</td>\n",
       "    </tr>\n",
       "    <tr>\n",
       "      <th>Public_Holiday</th>\n",
       "      <td>0.001274</td>\n",
       "      <td>0.019112</td>\n",
       "      <td>0.001242</td>\n",
       "      <td>-0.018770</td>\n",
       "      <td>1.000000</td>\n",
       "      <td>0.008319</td>\n",
       "      <td>-0.108305</td>\n",
       "      <td>-0.000483</td>\n",
       "      <td>-0.135052</td>\n",
       "    </tr>\n",
       "    <tr>\n",
       "      <th>Long_Promotion</th>\n",
       "      <td>-0.039570</td>\n",
       "      <td>-0.020204</td>\n",
       "      <td>-0.039605</td>\n",
       "      <td>-0.001149</td>\n",
       "      <td>0.008319</td>\n",
       "      <td>1.000000</td>\n",
       "      <td>-0.204289</td>\n",
       "      <td>-0.117862</td>\n",
       "      <td>-0.109455</td>\n",
       "    </tr>\n",
       "    <tr>\n",
       "      <th>User_Traffic</th>\n",
       "      <td>0.033604</td>\n",
       "      <td>0.021511</td>\n",
       "      <td>0.033520</td>\n",
       "      <td>0.198785</td>\n",
       "      <td>-0.108305</td>\n",
       "      <td>-0.204289</td>\n",
       "      <td>1.000000</td>\n",
       "      <td>-0.148185</td>\n",
       "      <td>0.829741</td>\n",
       "    </tr>\n",
       "    <tr>\n",
       "      <th>Competition_Metric</th>\n",
       "      <td>-0.007156</td>\n",
       "      <td>0.003188</td>\n",
       "      <td>-0.007110</td>\n",
       "      <td>0.000180</td>\n",
       "      <td>-0.000483</td>\n",
       "      <td>-0.117862</td>\n",
       "      <td>-0.148185</td>\n",
       "      <td>1.000000</td>\n",
       "      <td>-0.021716</td>\n",
       "    </tr>\n",
       "    <tr>\n",
       "      <th>Sales</th>\n",
       "      <td>0.017037</td>\n",
       "      <td>0.060012</td>\n",
       "      <td>0.016894</td>\n",
       "      <td>0.367762</td>\n",
       "      <td>-0.135052</td>\n",
       "      <td>-0.109455</td>\n",
       "      <td>0.829741</td>\n",
       "      <td>-0.021716</td>\n",
       "      <td>1.000000</td>\n",
       "    </tr>\n",
       "  </tbody>\n",
       "</table>\n",
       "</div>"
      ],
      "text/plain": [
       "                          ID    Day_No  Course_ID  Short_Promotion  \\\n",
       "ID                  1.000000  0.001052   0.999996        -0.000005   \n",
       "Day_No              0.001052  1.000000  -0.000506         0.014645   \n",
       "Course_ID           0.999996 -0.000506   1.000000        -0.000027   \n",
       "Short_Promotion    -0.000005  0.014645  -0.000027         1.000000   \n",
       "Public_Holiday      0.001274  0.019112   0.001242        -0.018770   \n",
       "Long_Promotion     -0.039570 -0.020204  -0.039605        -0.001149   \n",
       "User_Traffic        0.033604  0.021511   0.033520         0.198785   \n",
       "Competition_Metric -0.007156  0.003188  -0.007110         0.000180   \n",
       "Sales               0.017037  0.060012   0.016894         0.367762   \n",
       "\n",
       "                    Public_Holiday  Long_Promotion  User_Traffic  \\\n",
       "ID                        0.001274       -0.039570      0.033604   \n",
       "Day_No                    0.019112       -0.020204      0.021511   \n",
       "Course_ID                 0.001242       -0.039605      0.033520   \n",
       "Short_Promotion          -0.018770       -0.001149      0.198785   \n",
       "Public_Holiday            1.000000        0.008319     -0.108305   \n",
       "Long_Promotion            0.008319        1.000000     -0.204289   \n",
       "User_Traffic             -0.108305       -0.204289      1.000000   \n",
       "Competition_Metric       -0.000483       -0.117862     -0.148185   \n",
       "Sales                    -0.135052       -0.109455      0.829741   \n",
       "\n",
       "                    Competition_Metric     Sales  \n",
       "ID                           -0.007156  0.017037  \n",
       "Day_No                        0.003188  0.060012  \n",
       "Course_ID                    -0.007110  0.016894  \n",
       "Short_Promotion               0.000180  0.367762  \n",
       "Public_Holiday               -0.000483 -0.135052  \n",
       "Long_Promotion               -0.117862 -0.109455  \n",
       "User_Traffic                 -0.148185  0.829741  \n",
       "Competition_Metric            1.000000 -0.021716  \n",
       "Sales                        -0.021716  1.000000  "
      ]
     },
     "execution_count": 4,
     "metadata": {},
     "output_type": "execute_result"
    }
   ],
   "source": [
    "data.corr()    #Finding the co-relation between the features"
   ]
  },
  {
   "cell_type": "code",
   "execution_count": 5,
   "metadata": {},
   "outputs": [
    {
     "data": {
      "text/plain": [
       "<matplotlib.collections.PathCollection at 0x7f6d616cc3c8>"
      ]
     },
     "execution_count": 5,
     "metadata": {},
     "output_type": "execute_result"
    },
    {
     "data": {
      "image/png": "[encoded data removed]",
      "text/plain": [
       "<Figure size 432x288 with 1 Axes>"
      ]
     },
     "metadata": {
      "needs_background": "light"
     },
     "output_type": "display_data"
    }
   ],
   "source": [
    "#Clearly, User-Traffichas high co-relation with the Sales\n",
    "#also, the ID feature seems to be of no use. It seems to be similar to serial number. It can therefore be dropped\n",
    "#The Course_ID is of no use too as course type and domain provide us with the necessary info\n",
    "\n",
    "#plotting the User-Id vs Sales\n",
    "%matplotlib inline\n",
    "plt.scatter(data['User_Traffic'], data['Sales'], alpha=0.4)"
   ]
  },
  {
   "cell_type": "code",
   "execution_count": 6,
   "metadata": {},
   "outputs": [],
   "source": [
    "#Splitting into training and validation sets\n",
    "\n",
    "x_train, x_val=train_test_split(data, test_size=0.2, random_state=42)\n",
    "y_train=x_train['Sales']\n",
    "y_val=x_val['Sales']"
   ]
  },
  {
   "cell_type": "code",
   "execution_count": 7,
   "metadata": {
    "scrolled": false
   },
   "outputs": [],
   "source": [
    "#Using pipelines, making necessary transformations:\n",
    "#feature scaling for numerical data\n",
    "#one hot encoding for categorical data\n",
    "#removing Course_ID and ID features\n",
    "\n",
    "\n",
    "one1=OneHotEncoder()\n",
    "num=data.keys()\n",
    "num=list(num.drop('Course_Domain').drop('Course_Type').drop('Sales').drop('Course_ID').drop('ID'))\n",
    "cat=['Course_Domain', 'Course_Type']\n",
    "pip=ColumnTransformer([('scaler', StandardScaler(), num), ('one_hot', OneHotEncoder(), cat)])\n",
    "#for train(split) and validation sets\n",
    "x_train=pip.fit_transform(x_train)\n",
    "x_val=pip.transform(x_val)"
   ]
  },
  {
   "cell_type": "code",
   "execution_count": 8,
   "metadata": {},
   "outputs": [
    {
     "name": "stdout",
     "output_type": "stream",
     "text": [
      "TRAIN Score:  0.8311006662213631 RMSE: 22.314463893203595\n",
      "VAL Score:  0.8309090374763841 RMSE:  22.447376844945993\n"
     ]
    }
   ],
   "source": [
    "#Now that the data is ready, testing various regression algorithms on the data\n",
    "#Model1: Linear Regression\n",
    "model=LinearRegression()\n",
    "model.fit(x_train, y_train)\n",
    "print('TRAIN Score: ', model.score(x_train, y_train),'RMSE:', (np.sqrt(mean_squared_error(model.predict(x_train), y_train))))\n",
    "print('VAL Score: ', model.score(x_val, y_val),'RMSE: ', (np.sqrt(mean_squared_error(model.predict(x_val), y_val))))\n",
    "\n",
    "#TRAIN Score:  0.8311006662213631 RMSE: 22.314463893203595\n",
    "#VAL Score:  0.8309090374763841 RMSE:  22.447376844945993"
   ]
  },
  {
   "cell_type": "code",
   "execution_count": 23,
   "metadata": {},
   "outputs": [
    {
     "name": "stdout",
     "output_type": "stream",
     "text": [
      "TRAIN Score:  0.9586337859985531 RMSE:  11.04321115436024\n",
      "VAL Score:  0.9443682157550336 RMSE:  12.87558273615192\n"
     ]
    }
   ],
   "source": [
    "#Model2: Decision Tree Regression (after tuning the parameters)\n",
    "model2=DecisionTreeRegressor(min_samples_leaf=10, max_depth=17)\n",
    "model2.fit(x_train, y_train)\n",
    "print('TRAIN Score: ', model2.score(x_train, y_train),'RMSE: ', (np.sqrt(mean_squared_error(model2.predict(x_train), y_train))))\n",
    "print('VAL Score: ', model2.score(x_val, y_val),'RMSE: ', (np.sqrt(mean_squared_error(model2.predict(x_val), y_val))))\n",
    "\n",
    "#TTRAIN Score:  0.9586337859985531 RMSE:  11.04321115436024\n",
    "#VAL Score:  0.9443682157550336 RMSE:  12.87558273615192"
   ]
  },
  {
   "cell_type": "code",
   "execution_count": 44,
   "metadata": {},
   "outputs": [
    {
     "name": "stdout",
     "output_type": "stream",
     "text": [
      "TRAIN Score:  0.9772334589052626 RMSE:  8.192586129646038\n",
      "VAL Score: 0.9571821453416332 RMSE:  11.29582228809414\n"
     ]
    }
   ],
   "source": [
    "#Model3: Random Forest Regression (after tuning the parameters)\n",
    "model3=RandomForestRegressor(max_depth=18, n_estimators=20, ccp_alpha=0.001)\n",
    "model3.fit(x_train, y_train)\n",
    "print('TRAIN Score: ', model3.score(x_train, y_train),'RMSE: ', (np.sqrt(mean_squared_error(model3.predict(x_train), y_train))))\n",
    "print('VAL Score:', model3.score(x_val, y_val),'RMSE: ', (np.sqrt(mean_squared_error(model3.predict(x_val), y_val))))\n",
    "#TRAIN Score:  0.9772334589052626 RMSE:  8.192586129646038\n",
    "#VAL Score: 0.9571821453416332 RMSE:  11.29582228809414"
   ]
  },
  {
   "cell_type": "code",
   "execution_count": 96,
   "metadata": {},
   "outputs": [],
   "source": [
    "#***for full train and test sets***\n",
    "\n",
    "'''\n",
    "x=pip.fit_transform(data)\n",
    "y=data['Sales']\n",
    "x_test=pip.transform(data_test)\n",
    "model_final=RandomForestRegressor(max_depth=18, n_estimators=20, ccp_alpha=0.001)\n",
    "model_final.fit(x, y)\n",
    "print('TRAIN Score: ', model_final.score(x, y),'RMSE: ', (np.sqrt(mean_squared_error(model_final.predict(x), y))))\n",
    "data_test['Sales']=model_final.predict(x_test)\n",
    "\n",
    "#outputting data to csv file\n",
    "data_test.to_csv('train_predicted.csv', index=False)\n",
    "'''"
   ]
  }
 ],
 "metadata": {
  "kernelspec": {
   "display_name": "Python 3",
   "language": "python",
   "name": "python3"
  },
  "language_info": {
   "codemirror_mode": {
    "name": "ipython",
    "version": 3
   },
   "file_extension": ".py",
   "mimetype": "text/x-python",
   "name": "python",
   "nbconvert_exporter": "python",
   "pygments_lexer": "ipython3",
   "version": "3.6.9"
  }
 },
 "nbformat": 4,
 "nbformat_minor": 4
}
